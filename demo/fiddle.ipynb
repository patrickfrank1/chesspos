{
 "nbformat": 4,
 "nbformat_minor": 2,
 "metadata": {
  "language_info": {
   "name": "python",
   "codemirror_mode": {
    "name": "ipython",
    "version": 3
   },
   "version": "3.7.6-final"
  },
  "orig_nbformat": 2,
  "file_extension": ".py",
  "mimetype": "text/x-python",
  "name": "python",
  "npconvert_exporter": "python",
  "pygments_lexer": "ipython3",
  "version": 3,
  "kernelspec": {
   "name": "python37664bitposembcondafe902e4f67854e6d98f2a8ceedfcf887",
   "display_name": "Python 3.7.6 64-bit ('pos-emb': conda)"
  }
 },
 "cells": [
  {
   "cell_type": "code",
   "execution_count": 1,
   "metadata": {},
   "outputs": [],
   "source": [
    "import sys\n",
    "import h5py\n",
    "import numpy as np\n",
    "from numpy.random import random"
   ]
  },
  {
   "cell_type": "markdown",
   "metadata": {},
   "source": [
    "##### Filesize experiments"
   ]
  },
  {
   "cell_type": "code",
   "execution_count": 51,
   "metadata": {},
   "outputs": [
    {
     "name": "stdout",
     "output_type": "stream",
     "text": "False\n<class 'list'> <class 'str'>\n(1, 1000)\n(1000, 1)\n1 773\n[b'11001000110111100010011001110111010010111111110000010001101011110100000001000100000000001010011000010101011011110111110100100101000011101001010010011010101010010000000001110111001111011001011110001000001001101011000101000000011101001100101010011100100011011000010001100011101111100010011010110111011010101010000111100100010001000100001000001010111110100111101011000111000001011010010110000100100011000110011100110111100100100000111000100011011000011111010100000000101111011011110001101011011010100001111011110110000000001100100011110101010111101011001101010110001110010000010001011000010001000011000010110011000111101001101010000111101000111100110001011101110000111100000000001010010000100010011011011010111100010011000001111010100110101010100101100010110101001100000001100']\n2 773\nNone\n[b'11111010010111011000001101101010110110001011111101011010110000011100000101011100111100001010000100100000011100111101100001001101110001110001010111110000101100111101100110000110010000010100010110101011100100010110100111101011101111101111000011001001110011100011000011110110001111100101110001001010110000001010000011101010011110110011101101011111111001101110110101010001111001101111101110000011111001000100111110011111011101101011101000010110010010101100011101101010011101010101111011110001010000110111110111101010000001111101001111111110100001101001111011001101000010011011010111110001011000100011011110110010001100001011011110110110111011000000100110010000001011001000100111110111110011011000011100010101010011110111100110011010101101111101001101000110100100111011111010011'\n b'01001111100000000011101111011000111111111000101100100011100100000000110110111011001110000010000101111111001110101001001100011111000111010100000100101011011000000000100101110010110010100100111111000111010000010111001011000011101110100111100100111000011000010101111110011000001001111011111111101000011010001011010111101111000001011100011011110000011111101100111000100010110110010100000110000110110110001111100000100000000100000111010011100010010010010101000100101101000101000101110110101001000010010000000111010110011111101010111100000011100100101110010100011101110100000110011011000110110100111010101101110010111011011100110101000100000000001111010110001000111011010010000100100010010011111100000101000100010000110011100010001010011110110100110011100110100010001000111000010']\n"
    }
   ],
   "source": [
    "dset1 = random( size=(1000,773) )\n",
    "dset2 = np.round( random( size=(1000,773) ) ).astype(bool)\n",
    "dset3 = [1000*[773*'1']]\n",
    "dset4 = [ np.array([''.join([str(num) for num in x.astype(int)])]).astype('S773') for x in dset2 ]\n",
    "dset5 = [ np.concatenate((dset4[2*i],dset4[2*i+1])) for i in range(500)]\n",
    "\n",
    "print(int(dset3[0][0], base=2) < sys.maxsize) # not good to save binary as integer\n",
    "print(type(dset3[0]), type(dset3[0][0]))\n",
    "print(np.asarray(dset3).shape)\n",
    "print(np.asarray(dset4).shape)\n",
    "print(len(dset4[0]), len(dset4[0][0]))\n",
    "print(dset4[1])\n",
    "print(print(len(dset5[0]), len(dset5[0][0])))\n",
    "print(dset5[1])"
   ]
  },
  {
   "cell_type": "code",
   "execution_count": 52,
   "metadata": {},
   "outputs": [],
   "source": [
    "with h5py.File(\"../data/float.hdf5\") as f:\n",
    "    f.create_dataset(\"float\", data=dset1, maxshape=(None, 773))\n",
    "\n",
    "with h5py.File(\"../data/bool.hdf5\") as f:\n",
    "    f.create_dataset(\"bool\", data=dset2, dtype=bool, maxshape=(None, 773), compression=\"gzip\", compression_opts=9)\n",
    "\n",
    "with h5py.File(\"../data/string.hdf5\",'w') as f:\n",
    "    data = f.create_dataset(\"string\", (500,), dtype=h5py.vlen_dtype(np.dtype('S773')), maxshape=(None,), compression=\"gzip\", compression_opts=9)\n",
    "    for i in range(500):\n",
    "        data[i] = dset5[i]\n"
   ]
  },
  {
   "cell_type": "markdown",
   "metadata": {},
   "source": [
    "#### Converting binary to uint"
   ]
  },
  {
   "cell_type": "code",
   "execution_count": 2,
   "metadata": {},
   "outputs": [
    {
     "data": {
      "text/plain": "(500000, 776)"
     },
     "execution_count": 2,
     "metadata": {},
     "output_type": "execute_result"
    }
   ],
   "source": [
    "chunk = 500000\n",
    "a = np.round(np.random.random(size=(chunk,776))).astype(np.bool_)\n",
    "a.shape\n"
   ]
  },
  {
   "cell_type": "code",
   "execution_count": 3,
   "metadata": {},
   "outputs": [
    {
     "name": "stdout",
     "output_type": "stream",
     "text": "CPU times: user 1.66 s, sys: 94.8 ms, total: 1.75 s\nWall time: 1.76 s\n"
    },
    {
     "data": {
      "text/plain": "((500000, 97),\n array([244., 143.,  19.,   1., 211.,  75., 223., 140.,  20.,  10.,  53.,\n        237., 207., 168.,  59., 142., 141., 213., 255., 240., 116., 168.,\n        117., 212.,  94., 154., 191.,  25., 192., 108., 149.,  56., 194.,\n        119.,  88., 121.,  56.,  95.,   4.,  22.,  79., 228.,  96., 170.,\n        204., 167., 216., 145., 105.,  27.,  50.,  99.,  19., 143.,  33.,\n        194., 180., 222.,  75.,  62.,  46.,  83., 146., 163., 149., 162.,\n         80., 210., 210., 203., 186., 110., 205., 189., 121.,  33.,  31.,\n         94., 190.,   5., 215.,  89., 151., 123., 219., 224.,  49., 177.,\n        158., 132.,  68., 221.,  63.,  41.,  50., 241., 171.]))"
     },
     "execution_count": 3,
     "metadata": {},
     "output_type": "execute_result"
    }
   ],
   "source": [
    "%%time\n",
    "uint = np.zeros(shape=(chunk,97))\n",
    "for j in range(97):\n",
    "    uint[:,j] = np.packbits(a[:,j*8:(j+1)*8])\n",
    "uint.shape, uint[0]"
   ]
  },
  {
   "cell_type": "code",
   "execution_count": 6,
   "metadata": {},
   "outputs": [
    {
     "name": "stdout",
     "output_type": "stream",
     "text": "CPU times: user 1.28 s, sys: 10.1 ms, total: 1.29 s\nWall time: 1.28 s\n"
    },
    {
     "data": {
      "text/plain": "(array([244, 143,  19,   1, 211,  75, 223, 140,  20,  10,  53, 237, 207,\n        168,  59, 142, 141, 213, 255, 240, 116, 168, 117, 212,  94, 154,\n        191,  25, 192, 108, 149,  56, 194, 119,  88, 121,  56,  95,   4,\n         22,  79, 228,  96, 170, 204, 167, 216, 145, 105,  27,  50,  99,\n         19, 143,  33, 194, 180, 222,  75,  62,  46,  83, 146, 163, 149,\n        162,  80, 210, 210, 203, 186, 110, 205, 189, 121,  33,  31,  94,\n        190,   5, 215,  89, 151, 123, 219, 224,  49, 177, 158, 132,  68,\n        221,  63,  41,  50, 241, 171], dtype=uint8),\n (500000, 97))"
     },
     "execution_count": 6,
     "metadata": {},
     "output_type": "execute_result"
    }
   ],
   "source": [
    "%%time\n",
    "uint = a.reshape((chunk,97,8))\n",
    "uint = np.packbits(b, axis=-1).reshape((chunk,97))\n",
    "uint[0], uint.shape"
   ]
  },
  {
   "cell_type": "markdown",
   "metadata": {},
   "source": [
    "#### Test chess board set up"
   ]
  },
  {
   "cell_type": "code",
   "execution_count": 3,
   "metadata": {},
   "outputs": [],
   "source": [
    "import chess"
   ]
  },
  {
   "cell_type": "code",
   "execution_count": 4,
   "metadata": {},
   "outputs": [
    {
     "output_type": "stream",
     "name": "stdout",
     "text": "r n b q k b n r\np p p p p p p p\n. . . . . . . .\n. . . . . . . .\n. . . . . . . .\n. . . . . . . .\nP P P P P P P P\nR N B Q K B N R\n"
    }
   ],
   "source": [
    "board = chess.Board()\n",
    "print(board)"
   ]
  },
  {
   "cell_type": "code",
   "execution_count": 6,
   "metadata": {},
   "outputs": [
    {
     "output_type": "stream",
     "name": "stdout",
     "text": ". . . . . . . .\n. . . . . . . .\n. . . . . . . .\n. . . . . . . .\n. . . . . . . .\n. . . . . . . .\n. . . . . . . .\n. . . . . . . .\n"
    }
   ],
   "source": [
    "board.clear()\n",
    "print(board)"
   ]
  },
  {
   "cell_type": "code",
   "execution_count": 15,
   "metadata": {},
   "outputs": [
    {
     "output_type": "stream",
     "name": "stdout",
     "text": "P q\n. . . . . . . .\n. . . . . . . .\n. . . . . . . .\n. . . . . . . .\n. . . . . . . .\n. . . . . . . .\n. . . . . . . .\n. P . . . . . .\n"
    }
   ],
   "source": [
    "board.set_piece_map({1:chess.Piece(chess.PAWN, chess.WHITE)})\n",
    "print(chess.Piece(chess.PAWN, chess.WHITE), chess.Piece.from_symbol('q'))\n",
    "print(board)"
   ]
  },
  {
   "cell_type": "code",
   "execution_count": 1,
   "metadata": {},
   "outputs": [],
   "source": [
    "import chess\n",
    "import chess.pgn"
   ]
  },
  {
   "cell_type": "code",
   "execution_count": 6,
   "metadata": {},
   "outputs": [
    {
     "output_type": "stream",
     "name": "stdout",
     "text": "21314\n"
    }
   ],
   "source": [
    "with open(\"../tools/lichess_db_standard_rated_2013-01-02.pgn\", 'r') as f:\n",
    "    i = 0\n",
    "    while True:\n",
    "        next_game = chess.pgn.read_game(f)\n",
    "        i+=1\n",
    "        if next_game is None:\n",
    "            print(i)\n",
    "            break"
   ]
  },
  {
   "cell_type": "markdown",
   "metadata": {},
   "source": [
    "### Test indices"
   ]
  },
  {
   "cell_type": "code",
   "execution_count": 1,
   "metadata": {},
   "outputs": [],
   "source": [
    "import faiss\n",
    "index = faiss.read_index(\"/media/pafrank/Backup/other/Chess/lichess/embeddings/IVF65536_HNSW32,SQ4.faiss\")"
   ]
  },
  {
   "cell_type": "code",
   "execution_count": null,
   "metadata": {},
   "outputs": [],
   "source": []
  }
 ]
}