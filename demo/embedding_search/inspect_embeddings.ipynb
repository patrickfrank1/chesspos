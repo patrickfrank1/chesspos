{
 "cells": [
  {
   "cell_type": "markdown",
   "metadata": {},
   "source": [
    "### Setup"
   ]
  },
  {
   "cell_type": "code",
   "execution_count": null,
   "metadata": {},
   "outputs": [],
   "source": [
    "import json\n",
    "import faiss\n",
    "import numpy as np\n",
    "import chess\n",
    "import chess.svg\n",
    "import tensorflow as tf\n",
    "\n",
    "from chesspos.convert import bitboard_to_board\n",
    "from chesspos.binary_index import board_to_bitboard\n",
    "from chesspos.utils import files_from_directory\n",
    "import chesspos.embedding_index as iemb"
   ]
  },
  {
   "cell_type": "markdown",
   "metadata": {},
   "source": [
    "### Download some embeddings\n",
    "\n",
    "These files were obtained by extracting bitboards, training an embedding model and embedding the bitboards with that model"
   ]
  },
  {
   "cell_type": "code",
   "execution_count": null,
   "metadata": {},
   "outputs": [],
   "source": [
    "# download embeddings\n",
    "!wget --load-cookies /tmp/cookies.txt \"https://docs.google.com/uc?export=download&confirm=$(wget --quiet --save-cookies /tmp/cookies.txt --keep-session-cookies --no-check-certificate 'https://docs.google.com/uc?export=download&id=1fiPUEBTnxzbnFvSSKspmGA-1OPRx1tnn' -O- | sed -rn 's/.*confirm=([0-9A-Za-z_]+).*/\\1\\n/p')&id=1fiPUEBTnxzbnFvSSKspmGA-1OPRx1tnn\" -O ../data/embeddings_d64.tar.bz2 && rm -rf /tmp/cookies.txt\n",
    "# unpack\n",
    "!tar -xjf ../data/embeddings_d64.tar.bz2 -C ../data/\n",
    "# clean up\n",
    "!mv ../data/embeddings ../data/embeddings_d64\n",
    "!rm ../data/embeddings_d64.tar.bz2\n",
    "# download the belonging model\n",
    "!curl -L -o '../data/deep64.tar.bz2' 'https://docs.google.com/uc?export=download&id=1MHBTMx7yCJTL_l-BD72Nr3EEcwLa1myq'\n",
    "# clean up\n",
    "!tar -xjf ../data/deep64.tar.bz2 -C ../data/\n",
    "!mv ../data/deep64 ../data/model_deep64\n",
    "!rm deep64.tar.bz2"
   ]
  },
  {
   "cell_type": "code",
   "execution_count": null,
   "metadata": {},
   "outputs": [],
   "source": []
  },
  {
   "cell_type": "markdown",
   "metadata": {},
   "source": [
    "### Create and populate an index (the easy way)"
   ]
  },
  {
   "cell_type": "code",
   "execution_count": null,
   "metadata": {},
   "outputs": [],
   "source": [
    "# for help run\n",
    "# !python ../tools/index_from_embedding.py -h\n",
    "!python ../tools/index_from_embedding.py\\\n",
    "PCA16,SQ4\\\n",
    "../data/embeddings_d64\\\n",
    "--save_path ../data/embeddings_d64\\\n",
    "--table_id test_embedding\\\n",
    "--train_frac 0.001\\\n",
    "--chunks 10000"
   ]
  },
  {
   "cell_type": "markdown",
   "metadata": {},
   "source": [
    "### Create and populate index (the hard way)"
   ]
  },
  {
   "cell_type": "code",
   "execution_count": null,
   "metadata": {},
   "outputs": [],
   "source": [
    "embedding_path = \"../data/embeddings_d64\"\n",
    "save_path = \"../data/embeddings_d64\"\n",
    "factory_string = \"PCA16,SQ4\"\n",
    "table_id = \"test_embedding\"\n",
    "queries = [\n",
    "    \"rnbqkbnr/pppppppp/8/8/8/8/PPPPPPPP/RNBQKBNR w KQkq - 0 1\",\n",
    "    \"8/1R6/4p1k1/1p6/p1b2K2/P1Br4/1P6/8 b - - 8 49\"\n",
    "]\n",
    "num_results = 10\n",
    "embedding_dimension = 64\n",
    "chunks = int(1e4)\n",
    "train_frac = 1e-3"
   ]
  },
  {
   "cell_type": "code",
   "execution_count": null,
   "metadata": {},
   "outputs": [],
   "source": [
    "# create index\n",
    "index = faiss.index_factory(embedding_dimension, factory_string)"
   ]
  },
  {
   "cell_type": "code",
   "execution_count": null,
   "metadata": {},
   "outputs": [],
   "source": [
    "%%time\n",
    "# train faiss index\n",
    "train_file_list = files_from_directory(embedding_path, file_type=\"h5\")\n",
    "index = iemb.index_train_embeddings(train_file_list, table_id, index, chunks=chunks, train_frac=train_frac)"
   ]
  },
  {
   "cell_type": "code",
   "execution_count": null,
   "metadata": {},
   "outputs": [],
   "source": [
    "%%time\n",
    "# populate faiss index\n",
    "file_list = files_from_directory(embedding_path, file_type=\"h5\")\n",
    "index, table_dict = iemb.index_load_file_array(file_list, table_id, index, chunks=chunks)"
   ]
  },
  {
   "cell_type": "code",
   "execution_count": null,
   "metadata": {},
   "outputs": [],
   "source": [
    "%%time\n",
    "# save index\n",
    "faiss.write_index(index, f\"{save_path}/{factory_string}.faiss\")\n",
    "json.dump( table_dict, open( f\"{save_path}/{factory_string}.json\", 'w' ) )"
   ]
  },
  {
   "cell_type": "markdown",
   "metadata": {},
   "source": [
    "### Search index"
   ]
  },
  {
   "cell_type": "code",
   "execution_count": null,
   "metadata": {},
   "outputs": [],
   "source": [
    "encoder_path = \"../data/model_deep64/model_encoder.h5\"\n",
    "decoder_path =\"../data/model_deep64/model_decoder.h5\"\n",
    "save_path = f\"../data/embeddings_d64\"\n",
    "factory_string = \"PCA16,SQ4\"\n",
    "# load the previously created\n",
    "table_dict = json.load( open( f\"{save_path}/{factory_string}.json\" ) )\n",
    "index = faiss.read_index(f\"{save_path}/{factory_string}.faiss\")\n",
    "queries = np.array([\n",
    "    \"r1bqk1nr/pp1pbppp/2n1p3/8/3N4/6P1/PPP1PPBP/RNBQK2R w KQkq - 3 6\",\n",
    "    \"8/1R6/4p1k1/1p6/p1b2K2/P1Br4/1P6/8 b - - 8 49\",\n",
    "    \"8/8/5p2/R3pkp1/5n2/5K2/8/8 w - - 0 42\"\n",
    "])\n",
    "num_results = 3"
   ]
  },
  {
   "cell_type": "code",
   "execution_count": null,
   "metadata": {},
   "outputs": [],
   "source": [
    "%%time\n",
    "# search index\n",
    "D, I, E = iemb.index_query_positions(queries, index, encoder_path,\n",
    "                                     input_format='fen', num_results=num_results)"
   ]
  },
  {
   "cell_type": "code",
   "execution_count": null,
   "metadata": {},
   "outputs": [],
   "source": [
    "%%time\n",
    "# retrieve the belonging bitboards\n",
    "file, table, offset = iemb.location_from_index(I, table_dict)\n",
    "bb_table = iemb.manipulate_prefix(table, \"position\")\n",
    "bitboards = iemb.retrieve_elements_from_file(file, bb_table, offset)\n",
    "print(bitboards.shape, bitboards.dtype)"
   ]
  },
  {
   "cell_type": "code",
   "execution_count": null,
   "metadata": {},
   "outputs": [],
   "source": [
    "# retrieve belonging embeddings\n",
    "embeddings = iemb.retrieve_elements_from_file(file, table, offset)\n",
    "e_shape = embeddings.shape\n",
    "print(f\"embedding shape {e_shape}\")\n",
    "embeddings = embeddings.reshape((-1,e_shape[-1]))\n",
    "\n",
    "# reconstruct with decoder\n",
    "decoder = tf.keras.models.load_model(decoder_path)\n",
    "decoded_bitboards = decoder(embeddings)\n",
    "decoded_bitboards = decoded_bitboards.numpy()\n",
    "decoded_bitboards = decoded_bitboards.reshape((*e_shape[:-1],-1))\n",
    "print(f\"reconstructed bitboard shape {decoded_bitboards.shape}\")"
   ]
  },
  {
   "cell_type": "code",
   "execution_count": null,
   "metadata": {},
   "outputs": [],
   "source": [
    "# convert bitboards to fen\n",
    "def fen_converter(bb):\n",
    "    board = bitboard_to_board(bb) \n",
    "    return board.fen()\n",
    "fc = np.vectorize(fen_converter, signature=f'(773)->()')\n",
    "\n",
    "bitboards_fen = fc(bitboards)\n",
    "decoded_bitboards_fen = fc(decoded_bitboards)\n",
    "\n",
    "bb_shape = bitboards.shape"
   ]
  },
  {
   "cell_type": "code",
   "execution_count": null,
   "metadata": {
    "scrolled": false,
    "tags": [
     "outputPrepend"
    ]
   },
   "outputs": [],
   "source": [
    "from IPython.display import HTML\n",
    "html = \"\"\n",
    "for i in range(bb_shape[0]):\n",
    "    for j in range(bb_shape[1]):\n",
    "        html += f\"<h4>Query {i} | Retrieved bitboard {j}: euclidean distance {D[i][j]} to query | Reconstructed bitboard {j}</h4>\"\n",
    "        html += chess.svg.board(chess.Board(queries[i]), size=300)\n",
    "        html += chess.svg.board(chess.Board(bitboards_fen[i][j]), size=300)\n",
    "        html += chess.svg.board(chess.Board(decoded_bitboards_fen[i][j]), size=300)\n",
    "    html += \"<hr>\"\n",
    "HTML(html)"
   ]
  },
  {
   "cell_type": "code",
   "execution_count": null,
   "metadata": {},
   "outputs": [],
   "source": []
  }
 ],
 "metadata": {
  "file_extension": ".py",
  "kernelspec": {
   "display_name": "Python 3.7.6 64-bit ('pos-emb-clone': conda)",
   "language": "python",
   "name": "python37664bitposembcloneconda1cd43f3d27854914843ae01398bed068"
  },
  "language_info": {
   "codemirror_mode": {
    "name": "ipython",
    "version": 3
   },
   "file_extension": ".py",
   "mimetype": "text/x-python",
   "name": "python",
   "nbconvert_exporter": "python",
   "pygments_lexer": "ipython3",
   "version": "3.7.6"
  },
  "mimetype": "text/x-python",
  "name": "python",
  "npconvert_exporter": "python",
  "pygments_lexer": "ipython3",
  "version": 3
 },
 "nbformat": 4,
 "nbformat_minor": 2
}
